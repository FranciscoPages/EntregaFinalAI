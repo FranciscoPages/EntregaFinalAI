{
  "nbformat": 4,
  "nbformat_minor": 0,
  "metadata": {
    "colab": {
      "provenance": [],
      "authorship_tag": "ABX9TyMNeIYC6HSK6n4Hsy5BdOr8",
      "include_colab_link": true
    },
    "kernelspec": {
      "name": "python3",
      "display_name": "Python 3"
    },
    "language_info": {
      "name": "python"
    }
  },
  "cells": [
    {
      "cell_type": "markdown",
      "metadata": {
        "id": "view-in-github",
        "colab_type": "text"
      },
      "source": [
        "<a href=\"https://colab.research.google.com/github/FranciscoPages/EntregaFinalAI/blob/main/%F0%9F%A7%A0_Proyecto_Final_Planificador_Inteligente_de_Recetas_Personalizadas.ipynb\" target=\"_parent\"><img src=\"https://colab.research.google.com/assets/colab-badge.svg\" alt=\"Open In Colab\"/></a>"
      ]
    },
    {
      "cell_type": "markdown",
      "source": [
        "#📌 Parte 1: Instalación y configuración\n",
        "\n"
      ],
      "metadata": {
        "id": "ANAhvxg-Cwqz"
      }
    },
    {
      "cell_type": "code",
      "source": [
        "!pip install openai\n",
        "import openai\n",
        "openai.api_key = \"TU_API_KEY\""
      ],
      "metadata": {
        "id": "_fB4xkPeH9fx"
      },
      "execution_count": null,
      "outputs": []
    },
    {
      "cell_type": "markdown",
      "source": [
        "#📌Parte 2: Entrada del usuario"
      ],
      "metadata": {
        "id": "67wFhO-hEHCv"
      }
    },
    {
      "cell_type": "code",
      "source": [
        "# Entradas básicas del usuario\n",
        "ingredientes = [\"garbanzos\", \"pimiento rojo\", \"ajo\", \"aceite de oliva\"]\n",
        "restricciones_dieteticas = \"vegano y sin gluten\"\n",
        "tiempo_preparacion = \"30 minutos\""
      ],
      "metadata": {
        "id": "538fKEHGEMxY"
      },
      "execution_count": null,
      "outputs": []
    },
    {
      "cell_type": "markdown",
      "source": [
        "#📌 Parte 3: Fast Prompting (Texto a Texto)\n",
        "\n"
      ],
      "metadata": {
        "id": "d0Db__aCEW3j"
      }
    },
    {
      "cell_type": "code",
      "source": [
        "# Generación del prompt optimizado\n",
        "prompt_texto_a_texto = f\"\"\"\n",
        "Actúa como un chef profesional especializado en nutrición.\n",
        "Crea una receta detallada usando los siguientes ingredientes: {', '.join(ingredientes)}.\n",
        "Debe cumplir con estas restricciones: {restricciones_dieteticas}.\n",
        "El tiempo máximo de preparación debe ser de {tiempo_preparacion}.\n",
        "Incluye:\n",
        "\n",
        "- Nombre del plato\n",
        "- Breve descripción\n",
        "- Lista de ingredientes (con cantidades)\n",
        "- Instrucciones paso a paso\n",
        "- Tiempo total estimado de preparación\n",
        "\n",
        "Sé claro, preciso y amigable en el tono.\n",
        "\"\"\"\n",
        "\n",
        "print(\"Prompt generado (texto → receta):\")\n",
        "print(prompt_texto_a_texto)\n"
      ],
      "metadata": {
        "id": "-99NoHaGEWfy"
      },
      "execution_count": null,
      "outputs": []
    },
    {
      "cell_type": "markdown",
      "source": [
        "#📌 Parte 4: Simulación de respuesta de ChatGPT"
      ],
      "metadata": {
        "id": "hLOxM7gvEqxt"
      }
    },
    {
      "cell_type": "code",
      "source": [
        "# Simulación de una respuesta que puedes copiar desde ChatGPT si no usas la API\n",
        "respuesta_receta = \"\"\"\n",
        "🍲 **Estofado Mediterráneo de Garbanzos**\n",
        "\n",
        "Un delicioso estofado vegano sin gluten, lleno de sabor y nutrientes. Perfecto para una comida rápida y saludable.\n",
        "\n",
        "**Ingredientes:**\n",
        "- 1 taza de garbanzos cocidos\n",
        "- 1 pimiento rojo cortado en tiras\n",
        "- 2 dientes de ajo picados\n",
        "- 2 cucharadas de aceite de oliva\n",
        "- 1/2 taza de agua o caldo vegetal\n",
        "- Sal y pimienta al gusto\n",
        "- Perejil fresco para decorar\n",
        "\n",
        "**Instrucciones:**\n",
        "1. En una sartén, calienta el aceite de oliva y sofríe el ajo hasta que esté dorado.\n",
        "2. Agrega el pimiento rojo y cocina por 5 minutos.\n",
        "3. Incorpora los garbanzos y el agua/caldo. Cocina a fuego medio por 15 minutos.\n",
        "4. Ajusta sal y pimienta.\n",
        "5. Sirve caliente, decorado con perejil fresco.\n",
        "\n",
        "⏱ Tiempo total: 25 minutos\n",
        "\"\"\"\n",
        "\n",
        "print(\"Receta generada:\")\n",
        "print(respuesta_receta)\n"
      ],
      "metadata": {
        "colab": {
          "base_uri": "https://localhost:8080/"
        },
        "id": "9jfzvN6nEsj_",
        "outputId": "bc3c9132-007b-46f4-a8c2-390630e6d05a"
      },
      "execution_count": 3,
      "outputs": [
        {
          "output_type": "stream",
          "name": "stdout",
          "text": [
            "Receta generada:\n",
            "\n",
            "🍲 **Estofado Mediterráneo de Garbanzos**\n",
            "\n",
            "Un delicioso estofado vegano sin gluten, lleno de sabor y nutrientes. Perfecto para una comida rápida y saludable.\n",
            "\n",
            "**Ingredientes:**\n",
            "- 1 taza de garbanzos cocidos\n",
            "- 1 pimiento rojo cortado en tiras\n",
            "- 2 dientes de ajo picados\n",
            "- 2 cucharadas de aceite de oliva\n",
            "- 1/2 taza de agua o caldo vegetal\n",
            "- Sal y pimienta al gusto\n",
            "- Perejil fresco para decorar\n",
            "\n",
            "**Instrucciones:**\n",
            "1. En una sartén, calienta el aceite de oliva y sofríe el ajo hasta que esté dorado.\n",
            "2. Agrega el pimiento rojo y cocina por 5 minutos.\n",
            "3. Incorpora los garbanzos y el agua/caldo. Cocina a fuego medio por 15 minutos.\n",
            "4. Ajusta sal y pimienta.\n",
            "5. Sirve caliente, decorado con perejil fresco.\n",
            "\n",
            "⏱ Tiempo total: 25 minutos\n",
            "\n"
          ]
        }
      ]
    },
    {
      "cell_type": "markdown",
      "source": [
        "#📌 Parte 5: Generación de Prompt para Imagen (Texto a Imagen)\n"
      ],
      "metadata": {
        "id": "WQE952SiE9TR"
      }
    },
    {
      "cell_type": "code",
      "source": [
        "# Prompt que puedes usar en NightCafe u otra herramienta\n",
        "prompt_texto_a_imagen = \"\"\"\n",
        "A vegan and gluten-free Mediterranean chickpea stew with red bell peppers and garlic, served hot in a rustic bowl, garnished with fresh parsley. High-quality, top-down food photography.\n",
        "\"\"\"\n",
        "\n",
        "print(\"Prompt generado (texto → imagen):\")\n",
        "print(prompt_texto_a_imagen)"
      ],
      "metadata": {
        "id": "zd1P038GFIxN"
      },
      "execution_count": null,
      "outputs": []
    },
    {
      "cell_type": "markdown",
      "source": [
        "#📌 Parte 6: Visualización de la imagen\n"
      ],
      "metadata": {
        "id": "5Q9dS_qZFL5g"
      }
    },
    {
      "cell_type": "code",
      "source": [
        "from IPython.display import Image\n",
        "\n",
        "# Asume que ya has generado y subido la imagen al mismo directorio de la notebook\n",
        "Image(\"receta_ejemplo.png\")"
      ],
      "metadata": {
        "id": "_WA5QSenH6EL"
      },
      "execution_count": null,
      "outputs": []
    }
  ]
}